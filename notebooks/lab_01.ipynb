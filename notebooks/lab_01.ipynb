{
 "cells": [
  {
   "cell_type": "code",
   "execution_count": 8,
   "metadata": {},
   "outputs": [],
   "source": [
    "############################################\n",
    "# MSDS 442: AI Agent Design and Development\n",
    "# Spring '25\n",
    "# Dr. Bader\n",
    "#\n",
    "# Virtual lab #1\n",
    "# Setup Python LangChain/LangGraph Coding Workbench\n",
    "# \n",
    "# Kevin Geidel\n",
    "############################################\n",
    "\n",
    "# Load environment variables\n",
    "from dotenv import load_dotenv\n",
    "load_dotenv()\n",
    "\n",
    "# Python native imports\n",
    "import os\n",
    "\n",
    "# Third party library import\n",
    "from langchain_openai import ChatOpenAI\n",
    "\n",
    "# Assign experiment-wide variables\n",
    "model_name = 'gpt-4o-mini'"
   ]
  },
  {
   "cell_type": "code",
   "execution_count": null,
   "metadata": {},
   "outputs": [
    {
     "data": {
      "text/plain": [
       "AIMessage(content='Hello! How can I assist you today?', additional_kwargs={'refusal': None}, response_metadata={'token_usage': {'completion_tokens': 10, 'prompt_tokens': 11, 'total_tokens': 21, 'completion_tokens_details': {'accepted_prediction_tokens': 0, 'audio_tokens': 0, 'reasoning_tokens': 0, 'rejected_prediction_tokens': 0}, 'prompt_tokens_details': {'audio_tokens': 0, 'cached_tokens': 0}}, 'model_name': 'gpt-4o-mini-2024-07-18', 'system_fingerprint': 'fp_27322b4e16', 'id': 'chatcmpl-BFAdUX6UnnTix8qYCV1Uq0CUoQ6F8', 'finish_reason': 'stop', 'logprobs': None}, id='run-3f27aeb0-23ed-4019-914c-6e65deef1904-0', usage_metadata={'input_tokens': 11, 'output_tokens': 10, 'total_tokens': 21, 'input_token_details': {'audio': 0, 'cache_read': 0}, 'output_token_details': {'audio': 0, 'reasoning': 0}})"
      ]
     },
     "execution_count": 7,
     "metadata": {},
     "output_type": "execute_result"
    }
   ],
   "source": [
    "llm = ChatOpenAI(model=model_name)\n",
    "llm.invoke(\"Hello, world!\")\n"
   ]
  },
  {
   "cell_type": "markdown",
   "metadata": {},
   "source": [
    "### Analysis and reflections\n",
    "\n",
    "<hr>\n",
    "\n",
    "#### Setup Process \n",
    "    \n",
    "No issues encounted during setup, *pip* package manager located required libraries and dependencies easily. API keys were easily obtained.\n",
    "\n",
    "\n",
    "#### Computer Hardware\n",
    "    \n",
    "* Lenovo Legion Y520 (Notebook)\n",
    "* Intel Quad Core i7 7700HQ @ 2.80 GHz (64 bit)\n",
    "* 16 GB memory\n",
    "\n",
    "#### Installation Time\n",
    "    \n",
    "Installing the entire *requirements.txt* on a fresh environment takes approximately five minutes.\n",
    "\n",
    "#### Error Resolution\n",
    "    \n",
    "Did you encounter any errors while running the provided IPYNB script? If yes, share the error messages you got and how you resolved those errors.\n",
    "\n",
    "#### Output Verification\n",
    "    \n",
    "After you modified the provided IPYNB script as instructed in the instructions document, did you get the correct output? Share the screenshot of the output you got in the IPYNB script. "
   ]
  }
 ],
 "metadata": {
  "kernelspec": {
   "display_name": "msds442",
   "language": "python",
   "name": "python3"
  },
  "language_info": {
   "codemirror_mode": {
    "name": "ipython",
    "version": 3
   },
   "file_extension": ".py",
   "mimetype": "text/x-python",
   "name": "python",
   "nbconvert_exporter": "python",
   "pygments_lexer": "ipython3",
   "version": "3.12.6"
  }
 },
 "nbformat": 4,
 "nbformat_minor": 2
}
