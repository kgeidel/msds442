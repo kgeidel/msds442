{
 "cells": [
  {
   "cell_type": "code",
   "execution_count": 1,
   "metadata": {},
   "outputs": [
    {
     "name": "stdout",
     "output_type": "stream",
     "text": [
      "AI agents powered by Large Language Models (LLMs) have the potential to significantly impact supplier performance management by automating various processes, enhancing decision-making capabilities, and fostering better collaboration between suppliers and organizations. Here are some key business opportunities in supplier performance management that can benefit from LLM-powered AI agents:\n",
      "\n",
      "### 1. **Supplier Evaluation and Selection**\n",
      "   - **Opportunity**: Automate the evaluation of potential suppliers by analyzing historical performance data, compliance records, and industry benchmarks.\n",
      "   - **Summary**: LLMs can assess supplier proposals, extract relevant metrics, and generate scores to identify the best-fit suppliers based on predefined criteria, streamlining the selection process.\n",
      "\n",
      "### 2. **Performance Monitoring**\n",
      "   - **Opportunity**: Continuously track supplier performance metrics using real-time data analysis.\n",
      "   - **Summary**: AI agents can collect and analyze performance data, such as delivery times, product quality, and adherence to contracts, providing businesses with up-to-date insights and facilitating timely interventions when needed.\n",
      "\n",
      "### 3. **Risk Management**\n",
      "   - **Opportunity**: Enhance risk assessment processes by identifying potential supply chain disruptions and vulnerabilities.\n",
      "   - **Summary**: AI agents can evaluate external factors (e.g., geopolitical risks, market fluctuations) and flag suppliers that may be at risk of underperformance or service interruptions, allowing businesses to proactively manage risks.\n",
      "\n",
      "### 4. **Feedback Generation and Communication**\n",
      "   - **Opportunity**: Automate feedback loops between businesses and suppliers to foster transparency and improvement.\n",
      "   - **Summary**: LLMs can generate personalized feedback reports based on performance data and communicate expectations or issues to suppliers, enhancing collaboration and encouraging ongoing improvement.\n",
      "\n",
      "### 5. **Contract Management**\n",
      "   - **Opportunity**: Streamline the process of drafting, reviewing, and managing supplier contracts.\n",
      "   - **Summary**: AI agents can assist in contract generation, compliance checks, and amendments by analyzing existing contracts for critical terms and conditions, thus reducing the likelihood of errors and inefficiencies.\n",
      "\n",
      "### 6. **Data-Driven Insights and Reporting**\n",
      "   - **Opportunity**: Generate comprehensive performance reports based on supplier data.\n",
      "   - **Summary**: LLMs can compile data into digestible reports, highlighting trends, anomalies, and areas for improvement, enabling management teams to make informed decisions based on factual insights.\n",
      "\n",
      "### 7. **Supplier Development Plans**\n",
      "   - **Opportunity**: Create tailored development plans for underperforming suppliers.\n",
      "   - **Summary**: AI agents can suggest specific improvement initiatives and training programs for suppliers based on performance data, promoting continuous development and strengthening supplier relationships.\n",
      "\n",
      "### 8. **Negotiation Support**\n",
      "   - **Opportunity**: Enhance negotiation strategies with data-driven insights.\n",
      "   - **Summary**: AI agents can analyze historical pricing trends, supplier performance, and market conditions to provide strategic recommendations for negotiation, allowing businesses to secure better terms and pricing.\n",
      "\n",
      "### 9. **Scalability in Supplier Management**\n",
      "   - **Opportunity**: Scale supplier management processes as the business grows.\n",
      "   - **Summary**: LLM-powered AI agents can efficiently handle an increasing number of suppliers while maintaining oversight, ensuring that all suppliers receive appropriate attention and evaluation.\n",
      "\n",
      "### 10. **Collaboration and Integration with Existing Systems**\n",
      "   - **Opportunity**: Facilitate seamless integration between supplier management tools and other business systems.\n",
      "   - **Summary**: By acting as intermediaries, AI agents can pull data from various sources (like ERP systems) for holistic supplier assessments, streamlining workflows and reducing manual data entry efforts.\n",
      "\n",
      "### Conclusion\n",
      "By leveraging LLM-powered AI agents, businesses can automate key supplier performance management processes, improve overall supplier relationships, enhance operational efficiency, and ultimately contribute to better supply chain resilience. These opportunities showcase how AI can genuinely transform supplier performance management into a more strategic and data-driven function.\n"
     ]
    }
   ],
   "source": [
    "####################################################################\n",
    "# Discussion 2 - AI Agents for Business Process Workflow Automation\n",
    "# \n",
    "# Kevin Geidel\n",
    "####################################################################\n",
    "\n",
    "from dotenv import load_dotenv\n",
    "load_dotenv()\n",
    "\n",
    "from openai import OpenAI\n",
    "client = OpenAI()\n",
    "\n",
    "completion = client.chat.completions.create(\n",
    "    model=\"gpt-4o-mini\",\n",
    "    messages=[{\n",
    "        \"role\": \"developer\",\n",
    "        \"content\": '''Businesses are embracing AI agents to transform workflows, enhance efficiency, and reduce manual effort. These agents leverage LLMs for dynamic decision-making, workflow automation, and seamless collaboration with human teams and existing systems. Examine the role of AI agents in automating diverse business processes for supplier performance management. \n",
    "        \n",
    "        List and summarize the business opportunities in supplier performance management that can benefit from LLM powered AI Agents.'''\n",
    "    }]\n",
    ")\n",
    "response = completion.choices[0].message.content\n",
    "print(response)"
   ]
  }
 ],
 "metadata": {
  "kernelspec": {
   "display_name": "msds442",
   "language": "python",
   "name": "python3"
  },
  "language_info": {
   "codemirror_mode": {
    "name": "ipython",
    "version": 3
   },
   "file_extension": ".py",
   "mimetype": "text/x-python",
   "name": "python",
   "nbconvert_exporter": "python",
   "pygments_lexer": "ipython3",
   "version": "3.12.6"
  }
 },
 "nbformat": 4,
 "nbformat_minor": 2
}
