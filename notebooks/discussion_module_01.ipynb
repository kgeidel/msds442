{
 "cells": [
  {
   "cell_type": "code",
   "execution_count": null,
   "metadata": {},
   "outputs": [],
   "source": [
    "############################################\n",
    "# MSDS 442: AI Agent Design and Development\n",
    "# Spring '25\n",
    "# Dr. Bader\n",
    "#\n",
    "# Discussion 1 - OpenAI client\n",
    "# \n",
    "# Kevin Geidel\n",
    "############################################\n",
    "\n",
    "from dotenv import load_dotenv\n",
    "load_dotenv()\n",
    "\n",
    "from openai import OpenAI\n",
    "client = OpenAI()\n",
    "\n",
    "completion = client.chat.completions.create(\n",
    "    model=\"gpt-4o-mini\",\n",
    "    messages=[{\n",
    "        \"role\": \"user\",\n",
    "        \"content\": \"I want to develop an AI Agent for supplier performance management personnel. I want your help in deciding which software framework to use. I have the following options: LangChain, LangGraph, AutoGen, CrewAI, and Baby AGI. Compare/contrast them in a table format for the output.\"\n",
    "    }]\n",
    ")\n",
    "\n",
    "response = completion.choices[0].message.content\n"
   ]
  },
  {
   "cell_type": "code",
   "execution_count": null,
   "metadata": {},
   "outputs": [],
   "source": [
    "print(response)"
   ]
  }
 ],
 "metadata": {
  "kernelspec": {
   "display_name": "msds442",
   "language": "python",
   "name": "python3"
  },
  "language_info": {
   "codemirror_mode": {
    "name": "ipython",
    "version": 3
   },
   "file_extension": ".py",
   "mimetype": "text/x-python",
   "name": "python",
   "nbconvert_exporter": "python",
   "pygments_lexer": "ipython3",
   "version": "3.12.6"
  }
 },
 "nbformat": 4,
 "nbformat_minor": 2
}
