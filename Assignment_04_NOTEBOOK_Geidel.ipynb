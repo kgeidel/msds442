{
 "cells": [
  {
   "cell_type": "code",
   "execution_count": null,
   "id": "fd9a7cbc",
   "metadata": {},
   "outputs": [],
   "source": [
    "###########################################################\n",
    "# MSDS 442: AI Agent Design and Development\n",
    "# Spring '25\n",
    "# Dr. Bader\n",
    "#\n",
    "# Assignment 4 - Northwestern Memorial – Healthcare Agent\n",
    "# \n",
    "# Kevin Geidel\n",
    "#\n",
    "###########################################################\n",
    "\n",
    "# OBJECTIVE:\n",
    "#   The following will construct multiple AI agents using the LangChain & LangGraph frameworks. \n",
    "#   The agents will represent different departments of Northwestern Memorial Hospital.\n",
    "#   They will coordinate, synchronize, and act to answer patients'/visitors' questions.\n",
    "\n",
    "# Load environment variables\n",
    "from dotenv import load_dotenv\n",
    "load_dotenv()\n",
    "\n",
    "# Python native imports\n",
    "import os, textwrap\n",
    "\n",
    "# 3rd party package imports\n",
    "from IPython.display import display, Image\n",
    "from typing_extensions import TypedDict\n",
    "from langgraph.graph import StateGraph, START, END\n",
    "from langchain_core.messages import HumanMessage, SystemMessage\n",
    "from langchain_openai import ChatOpenAI\n",
    "\n",
    "# Assign experiment-wide variables\n",
    "model_name = 'gpt-4o-mini'\n",
    "data_dir = os.path.join('reports', 'Assignment_4')"
   ]
  },
  {
   "cell_type": "code",
   "execution_count": null,
   "id": "5b0faa11",
   "metadata": {},
   "outputs": [],
   "source": [
    "# Requirement 1: Define the structure of agent state for the LangGraph\n",
    "class InquiryState(TypedDict):\n",
    "    inquiry: str\n",
    "    next_node: str\n",
    "    response: str  "
   ]
  },
  {
   "cell_type": "code",
   "execution_count": 32,
   "id": "5c867f2f",
   "metadata": {},
   "outputs": [],
   "source": [
    "# Establish the AI client\n",
    "llm = ChatOpenAI(model=model_name, temperature=0) "
   ]
  },
  {
   "cell_type": "code",
   "execution_count": null,
   "id": "9ccadeaf",
   "metadata": {},
   "outputs": [],
   "source": [
    "def operator_router(state):    \n",
    "    query = f\"\"\"Classify the user's intents based on the following input: '{state['inquiry']}'. \n",
    "            List of possible intent values: Greeting, GeneralInquiry, ER, Radiology, PrimaryCare, Cardiology, Pediatrics, BillingInsurance\n",
    "            Return only the intent value of the inquiry identified with no extra text or characters\"\"\"\n",
    "    \n",
    "    human_message = HumanMessage(\n",
    "        content=[\n",
    "            {\"type\": \"text\", \"text\": query},\n",
    "        ],\n",
    "    )\n",
    "\n",
    "    system_message = SystemMessage(content=\"You are a helpful assistant tasked with classifying the intent of user's inquiry\")\n",
    "    \n",
    "    response = llm.invoke([system_message]+[human_message])\n",
    "    intent = response.content.strip()\n",
    "            \n",
    "    response_lower = intent.lower()\n",
    "    \n",
    "    if \"greeting\" in response_lower:\n",
    "        response = \"Hello there, This is Northwestern Memorial Hospital, How can I assisst you today?\"\n",
    "        next_node = END\n",
    "    elif \"generalinquiry\" in response_lower:\n",
    "        response = \"For general informtion about nearby parking, hotels and restaurants, please visit https://www.nm.org/ and navigate to Patients & Visitors link \"\n",
    "        next_node = END\n",
    "    else:\n",
    "        response = None\n",
    "        next_node = intent\n",
    "\n",
    "    return {\n",
    "        \"inquiry\": state[\"inquiry\"],\n",
    "        \"next_node\": next_node,\n",
    "        \"response\": response\n",
    "    }\n"
   ]
  },
  {
   "cell_type": "code",
   "execution_count": null,
   "id": "c7885ee2",
   "metadata": {},
   "outputs": [],
   "source": [
    "def er_agent(state):\n",
    "    print(\"\\n\\n ER KNOWLEDGE-BASE IS EMPTY \\n\\n \")\n",
    "    return {\"inquiry\": state[\"inquiry\"], \"next_node\": END, \"response\": \"ER: YOU NEED TO ADD-YOUR-KNOWLEDGE-BASE\"}"
   ]
  },
  {
   "cell_type": "code",
   "execution_count": null,
   "id": "78e45961",
   "metadata": {},
   "outputs": [],
   "source": [
    "def radiology_agent(state):\n",
    "    print(\"\\n\\n Radiology KNOWLEDGE-BASE IS EMPTY \\n\\n \")\n",
    "    return {\"inquiry\": state[\"inquiry\"], \"next_node\": END, \"response\": \"Radiology: YOU NEED TO ADD-YOUR-KNOWLEDGE-BASE\"}"
   ]
  },
  {
   "cell_type": "code",
   "execution_count": null,
   "id": "6d63f7fb",
   "metadata": {},
   "outputs": [],
   "source": [
    "def primary_care_agent(state):\n",
    "    print(\"\\n\\n Primary Care KNOWLEDGE-BASE IS EMPTY \\n\\n \")\n",
    "    return {\"inquiry\": state[\"inquiry\"], \"next_node\": END, \"response\": \"Primary Care: YOU NEED TO ADD-YOUR-KNOWLEDGE-BASE\"}"
   ]
  },
  {
   "cell_type": "code",
   "execution_count": 33,
   "id": "3506bd5c",
   "metadata": {},
   "outputs": [],
   "source": [
    "def cardiology_agent(state):\n",
    "\n",
    "    knowledge_base = \"\"\"\n",
    "        \"inquiry\": \"Do you have any available appointments with a cardiologist next week?\",\n",
    "         \"response\": \"Appointment availability varies. New patients typically need a referral. Provide the exact date you are looking for so we can check for availability\",\n",
    "         \n",
    "        \"inquiry\": \"What tests are done during a heart check-up?\",\n",
    "         \"response\": \"Standard tests include EKG, blood pressure, cholesterol screening, and physical exam. Additional tests ordered as needed.\",\n",
    "         \n",
    "        \"inquiry\": \"How should I prepare for a stress test?\",\n",
    "         \"response\": \"Wear comfortable clothes and walking shoes. Avoid caffeine and heavy meals before the test. Bring a list of medications.\",\n",
    "         \n",
    "        \"inquiry\": \"What do you recommend to watch for to see if I have signs of heart problems?\",\n",
    "         \"response\": \"Watch for chest pain, shortness of breath, irregular heartbeat, fatigue, and swelling in legs. Go to ER for severe symptoms.\"},\n",
    "\n",
    "        \"inquiry\": \"Do you offer heart screenings?\",\n",
    "         \"response\": \"Yes, we provide preventive screenings including calcium scoring, cholesterol tests, and blood pressure monitoring.\",\n",
    " \n",
    "        \"\"\"    \n",
    "    query = f\"\"\"Provide an answer for following user's inquiry: '{state['inquiry']}' using the knowledge_base\"\"\"\n",
    "    \n",
    "    human_message = HumanMessage(\n",
    "        content=[\n",
    "            {\"type\": \"text\", \"text\": query},\n",
    "        ],\n",
    "    )\n",
    "\n",
    "    system_message = SystemMessage(content=f\"You are a helpful assistant tasked with answering user's inquiry based on the answers you have in this knowledge_base only: {knowledge_base}\")\n",
    "    \n",
    "    response = llm.invoke([system_message]+[human_message])\n",
    "    formatted_response = \"Cardiology:: \" + response.content.strip()\n",
    "    \n",
    "    \n",
    "    return {\"input\": state[\"inquiry\"], \"next_node\": END, \"response\": formatted_response}\n",
    "\n"
   ]
  },
  {
   "cell_type": "code",
   "execution_count": null,
   "id": "a578927f",
   "metadata": {},
   "outputs": [],
   "source": [
    "def pediatrics_agent(state):\n",
    "    print(\"\\n\\n Pediatrics KNOWLEDGE-BASE IS EMPTY \\n\\n \")\n",
    "    return {\"input\": state[\"inquiry\"], \"next_node\": END, \"response\": \"Pediatrics: YOU NEED TO ADD-YOUR-KNOWLEDGE-BASE.\"}\n"
   ]
  },
  {
   "cell_type": "code",
   "execution_count": null,
   "id": "9fca460f",
   "metadata": {},
   "outputs": [],
   "source": [
    "def billing_agent(state):\n",
    "    print(\"\\n\\n BillingInsurance KNOWLEDGE-BASE IS EMPTY \\n\\n \")\n",
    "    return {\"input\": state[\"inquiry\"], \"next_node\": END, \"response\": \"BillingInsurance: YOU NEED TO ADD-YOUR-KNOWLEDGE-BASE\"}\n",
    "    "
   ]
  },
  {
   "cell_type": "code",
   "execution_count": null,
   "id": "79223c41",
   "metadata": {},
   "outputs": [],
   "source": [
    "\n",
    "builder = StateGraph(InquiryState)\n",
    "\n",
    "builder.add_node(\"Operator\", operator_router)\n",
    "builder.add_node(\"ER\", er_agent)\n",
    "builder.add_node(\"Radiology\", radiology_agent)\n",
    "builder.add_node(\"PrimaryCare\", primary_care_agent)\n",
    "builder.add_node(\"Cardiology\", cardiology_agent)\n",
    "builder.add_node(\"Pediatrics\", pediatrics_agent)\n",
    "builder.add_node(\"BillingInsurance\", billing_agent)\n",
    "\n",
    "builder.set_entry_point(\"Operator\")\n",
    "\n",
    "builder.add_conditional_edges(\n",
    "    \"Operator\",\n",
    "    lambda x: x[\"next_node\"],\n",
    "    {\n",
    "        \"ER\": \"ER\",\n",
    "        \"PrimaryCare\": \"PrimaryCare\",\n",
    "        \"Pediatrics\": \"Pediatrics\",\n",
    "        \"Radiology\": \"Radiology\",\n",
    "        \"Cardiology\": \"Cardiology\",\n",
    "        \"BillingInsurance\": \"BillingInsurance\",\n",
    "        END: END\n",
    "    }\n",
    ")\n",
    "\n",
    "for node in [\"ER\", \"Radiology\", \"PrimaryCare\", \"Cardiology\", \"Pediatrics\", \"BillingInsurance\"]:\n",
    "    builder.add_edge(node, END)\n",
    "\n",
    "\n",
    "graph = builder.compile()\n"
   ]
  },
  {
   "cell_type": "code",
   "execution_count": null,
   "id": "58352e23",
   "metadata": {},
   "outputs": [],
   "source": [
    "display(Image(graph.get_graph().draw_mermaid_png()))\n"
   ]
  },
  {
   "cell_type": "code",
   "execution_count": null,
   "id": "bdd13a30",
   "metadata": {},
   "outputs": [],
   "source": [
    "def start_chat(wrap_length=100):\n",
    "    while True:\n",
    "        user_input = input(\"User: \")\n",
    "        print(f\"\\nUser:\\n\\n {user_input}\")\n",
    "        if user_input.lower() in {\"q\", \"quit\"}:\n",
    "            print(\"Goodbye!\")\n",
    "            break\n",
    "        result = graph.invoke({\"inquiry\": user_input})\n",
    "        \n",
    "        response = result.get(\"response\", \"No Response Returned\")\n",
    "        print(f\"\\n\\nResponse:\\n\\n {textwrap.fill(response, width=wrap_length)} \\n\\n\")"
   ]
  },
  {
   "cell_type": "code",
   "execution_count": null,
   "id": "eacef70e",
   "metadata": {},
   "outputs": [],
   "source": [
    "start_chat()"
   ]
  },
  {
   "cell_type": "code",
   "execution_count": 31,
   "id": "03b88941",
   "metadata": {},
   "outputs": [
    {
     "ename": "AttributeError",
     "evalue": "'CompiledStateGraph' object has no attribute 'state'",
     "output_type": "error",
     "traceback": [
      "\u001b[31m---------------------------------------------------------------------------\u001b[39m",
      "\u001b[31mAttributeError\u001b[39m                            Traceback (most recent call last)",
      "\u001b[36mCell\u001b[39m\u001b[36m \u001b[39m\u001b[32mIn[31]\u001b[39m\u001b[32m, line 1\u001b[39m\n\u001b[32m----> \u001b[39m\u001b[32m1\u001b[39m \u001b[43mgraph\u001b[49m\u001b[43m.\u001b[49m\u001b[43mstate\u001b[49m\n",
      "\u001b[31mAttributeError\u001b[39m: 'CompiledStateGraph' object has no attribute 'state'"
     ]
    }
   ],
   "source": [
    "graph.state"
   ]
  }
 ],
 "metadata": {
  "kernelspec": {
   "display_name": "msds442",
   "language": "python",
   "name": "python3"
  },
  "language_info": {
   "codemirror_mode": {
    "name": "ipython",
    "version": 3
   },
   "file_extension": ".py",
   "mimetype": "text/x-python",
   "name": "python",
   "nbconvert_exporter": "python",
   "pygments_lexer": "ipython3",
   "version": "3.11.9"
  }
 },
 "nbformat": 4,
 "nbformat_minor": 5
}
