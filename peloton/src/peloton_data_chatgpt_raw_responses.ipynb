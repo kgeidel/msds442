{
 "cells": [
  {
   "cell_type": "code",
   "execution_count": null,
   "metadata": {},
   "outputs": [],
   "source": [
    "############################################\n",
    "# MSDS 442: AI Agent Design and Development\n",
    "# Spring '25\n",
    "# Dr. Bader\n",
    "# \n",
    "# Kevin Geidel\n",
    "############################################\n",
    "\n",
    "# The following are the raw responses from ChatGPT, obtained while doing the Phase 1 Requirements Review."
   ]
  },
  {
   "cell_type": "raw",
   "metadata": {
    "vscode": {
     "languageId": "raw"
    }
   },
   "source": [
    "While many of the listed responsibilities in the specification can be addressed using multimodal LLM-based AI agents, full automation is not entirely feasible for all areas. Tasks like personalized recommendations, data-driven insights, customer support, and marketing analytics can be effectively handled with LLMs, especially when integrated with structured backend data and user inputs. However, complex workflows—such as fraud detection, secure payment handling, and nuanced customer disputes—require deterministic systems, external integrations, and possibly human oversight for reliability and compliance. Moreover, multimodal inputs (e.g., voice, image, text) add usability but also introduce challenges in accuracy, context interpretation, and system robustness. In short, LLMs can significantly augment and partially automate many features, but a hybrid approach combining AI agents with rule-based logic and human intervention is necessary for critical or high-risk functions."
   ]
  },
  {
   "cell_type": "raw",
   "metadata": {
    "vscode": {
     "languageId": "raw"
    }
   },
   "source": [
    "Here are 3 specific and implementable user stories for each AI Agent, aligned with their responsibilities:\n",
    "\n",
    "1. Business/Marketing AI Agent\n",
    "\n",
    "As a marketing manager, I want the AI agent to generate a weekly report on campaign engagement metrics, so I can assess ROI and adjust strategies.\n",
    "\n",
    "As a sales associate, I want the AI agent to identify top-performing customer segments based on past purchases, so I can tailor promotions.\n",
    "\n",
    "As a content strategist, I want the AI agent to suggest social media topics based on recent customer feedback and trends, so I can improve audience engagement.\n",
    "\n",
    "2. Data Science AI Agent\n",
    "\n",
    "As a product manager, I want the AI agent to summarize trends in workout completion rates across age groups, so I can prioritize features.\n",
    "\n",
    "As a fitness coach, I want the AI agent to explain member performance statistics in simple terms, so I can personalize training.\n",
    "\n",
    "As an analyst, I want the AI agent to recommend clustering algorithms for segmenting user fitness behavior, so I can uncover hidden patterns.\n",
    "\n",
    "3. Membership/Fraud Detection AI Agent\n",
    "\n",
    "As a member, I want the AI agent to notify me of login attempts from new devices, so I can secure my account.\n",
    "\n",
    "As a support agent, I want the AI to help users reset passwords after identity verification, so I can reduce response time.\n",
    "\n",
    "As a finance officer, I want the AI agent to flag accounts with abnormal usage patterns, so I can investigate possible fraud.\n",
    "\n",
    "4. Order/Shipping AI Agent\n",
    "\n",
    "As a customer, I want the AI agent to provide real-time tracking updates for my shipped bike, so I know when to expect delivery.\n",
    "\n",
    "As a warehouse employee, I want the AI to suggest restocking actions based on current inventory and return trends, so we avoid shortages.\n",
    "\n",
    "As a support rep, I want the AI agent to automatically resolve simple shipping issues like delayed packages, so I can focus on complex cases.\n",
    "\n",
    "5. Product Recommendation AI Agent\n",
    "\n",
    "As a member, I want the AI to recommend workout accessories based on my recent training history, so I can improve my setup.\n",
    "\n",
    "As a sales manager, I want the AI agent to identify best-selling product bundles, so I can promote them effectively.\n",
    "\n",
    "As a customer, I want the AI to compare different treadmills based on specs and user reviews, so I can make an informed purchase."
   ]
  },
  {
   "cell_type": "raw",
   "metadata": {
    "vscode": {
     "languageId": "raw"
    }
   },
   "source": [
    "Below is a table for each AI Agent and its 3 user stories, describing the design and implementation approach (summarized for brevity):\n",
    "\n",
    "1. Business/Marketing AI Agent\n",
    "| User Story             | Design & Implementation                                                                                    |\n",
    "| ---------------------- | ---------------------------------------------------------------------------------------------------------- |\n",
    "| Weekly campaign report | Integrate LangChain with CRM data; use GPT to summarize metrics; auto-schedule via workflow orchestrator.  |\n",
    "| Segment identification | Query customer data via vector DB; use GPT with retrieval to analyze and return top segments.              |\n",
    "| Social media topics    | Ingest feedback data; use GPT to classify themes; recommend topics based on frequency and engagement data. |\n",
    "\n",
    "2. Data Science AI Agent\n",
    "| User Story                      | Design & Implementation                                                                    |\n",
    "| ------------------------------- | ------------------------------------------------------------------------------------------ |\n",
    "| Workout trends by age           | Use Python pipeline to analyze time-series data; GPT summarizes insights for product team. |\n",
    "| Explain performance stats       | Combine user metrics with GPT prompt templates for simplified explanations.                |\n",
    "| Recommend clustering algorithms | GPT suggests methods based on dataset characteristics and task goals using RAG pipeline.   |\n",
    "\n",
    "3. Membership/Fraud Detection AI Agent\n",
    "| User Story     | Design & Implementation                                                          |\n",
    "| -------------- | -------------------------------------------------------------------------------- |\n",
    "| Login alert    | Use backend event triggers; GPT sends natural language alerts via email/SMS.     |\n",
    "| Password reset | Secure workflow with GPT-guided steps post-identity check; calls backend APIs.   |\n",
    "| Fraud flagging | Anomaly detection model flags accounts; GPT explains findings to support agents. |\n",
    "\n",
    "4. Order/Shipping AI Agent\n",
    "| User Story              | Design & Implementation                                                         |\n",
    "| ----------------------- | ------------------------------------------------------------------------------- |\n",
    "| Real-time tracking      | API integration with shipping partners; GPT summarizes tracking updates.        |\n",
    "| Restock suggestions     | Inventory analysis + GPT recommendations using sales velocity and return rates. |\n",
    "| Simple issue resolution | Intent detection + response templates using GPT; escalate complex cases.        |\n",
    "\n",
    "5. Product Recommendation AI Agent\n",
    "| User Story            | Design & Implementation                                                |\n",
    "| --------------------- | ---------------------------------------------------------------------- |\n",
    "| Recommend accessories | Preference and activity data fed to GPT; outputs tailored suggestions. |\n",
    "| Best-selling bundles  | Sales DB query + GPT summarization; ranks bundles by popularity.       |\n",
    "| Treadmill comparison  | Structured product data used in GPT prompt; outputs comparison table.  |\n",
    "\n",
    "Each implementation combines retrieval-augmented generation (RAG), backend APIs, and LangChain orchestration for scalable AI workflows.\n"
   ]
  },
  {
   "cell_type": "raw",
   "metadata": {
    "vscode": {
     "languageId": "raw"
    }
   },
   "source": [
    "To train and test each AI agent and its user stories, synthetic and real-like data can be generated using ChatGPT with domain-specific prompts:\n",
    "\n",
    "Business/Marketing AI Agent:\n",
    "\n",
    "Training: Campaign performance logs (CTR, ROI), customer segments, historical promotions.\n",
    "\n",
    "Testing: Simulated campaign summaries, A/B test results, fictional customer engagement profiles.\n",
    "\n",
    "Data Science AI Agent:\n",
    "\n",
    "Training: User workout logs (heart rate, duration), age-group analytics, system usage metrics.\n",
    "\n",
    "Testing: Anonymized user stats with embedded trends, clustering examples, data science queries and labels.\n",
    "\n",
    "Membership/Fraud Detection AI Agent:\n",
    "\n",
    "Training: Login event logs, suspicious activity patterns, fake support queries (e.g., \"I can't access my account\").\n",
    "\n",
    "Testing: Simulated fraud cases, password reset flows, security-related FAQs.\n",
    "\n",
    "Order/Shipping AI Agent:\n",
    "\n",
    "Training: Sample order records, shipping statuses, return request templates.\n",
    "\n",
    "Testing: Delayed/missing package examples, shipping FAQs, inventory updates.\n",
    "\n",
    "Product Recommendation AI Agent:\n",
    "\n",
    "Training: Product metadata (features, price), user purchase histories, browsing patterns.\n",
    "\n",
    "Testing: Mock user profiles, product comparison requests, personalization scenarios.\n",
    "\n",
    "These datasets will allow prompt tuning, RAG testing, and intent classification validation, enabling robust evaluation across use cases."
   ]
  },
  {
   "cell_type": "markdown",
   "metadata": {
    "vscode": {
     "languageId": "raw"
    }
   },
   "source": [
    "### Orders/Shippment\n",
    "\n",
    "| **Order ID** | **Customer Name** | **Product**          | **Order Date** | **Shipping Status** | **Delivery Date (Est.)** | **Carrier** | **Tracking Number**    | **Issue Reported**  | **Resolution Status**   |\n",
    "| ------------ | ----------------- | -------------------- | -------------- | ------------------- | ------------------------ | ----------- | ---------------------- | ------------------- | ----------------------- |\n",
    "| ORD001       | Sarah Collins     | Peloton Bike+        | 2025-04-10     | Shipped             | 2025-04-15               | FedEx       | FX123456789US          | None                | N/A                     |\n",
    "| ORD002       | James Patel       | Tread                | 2025-04-12     | Delayed             | 2025-04-20               | UPS         | 1Z999AA10123456784     | Weather delay       | Pending                 |\n",
    "| ORD003       | Maria Gonzalez    | Bike Mat + Shoes     | 2025-04-13     | Delivered           | 2025-04-17               | USPS        | 9400110200830001234567 | None                | N/A                     |\n",
    "| ORD004       | Kevin Wu          | Dumbbell Set         | 2025-04-14     | In Transit          | 2025-04-19               | DHL         | DHL987654321           | None                | N/A                     |\n",
    "| ORD005       | Linda Harper      | Heart Rate Monitor   | 2025-04-10     | Delivered           | 2025-04-13               | FedEx       | FX876543210US          | Missing item        | Under Investigation     |\n",
    "| ORD006       | Omar Siddiqui     | Apparel Bundle       | 2025-04-11     | Returned            | 2025-04-16               | UPS         | 1Z888AA10123456785     | Size issue          | Refunded                |\n",
    "| ORD007       | Aisha Khan        | Resistance Bands     | 2025-04-13     | Out for Delivery    | 2025-04-18               | USPS        | 9400110200830007654321 | None                | N/A                     |\n",
    "| ORD008       | Daniel Cho        | Peloton Guide        | 2025-04-09     | Lost in Transit     | N/A                      | FedEx       | FX000111222US          | Not received        | Replacement Shipped     |\n",
    "| ORD009       | Rachel Adams      | Yoga Accessories Set | 2025-04-15     | Processing          | 2025-04-22               | N/A         | N/A                    | None                | N/A                     |\n",
    "| ORD010       | Marcus Lee        | Water Bottle         | 2025-04-12     | Delivered           | 2025-04-14               | USPS        | 9400110200830000001234 | Wrong item received | Replacement In Progress |\n"
   ]
  },
  {
   "cell_type": "markdown",
   "metadata": {},
   "source": [
    "### Product info\n",
    "\n",
    "| **Product ID** | **Product Name**        | **Category**    | **Price (USD)** | **Stock Status** | **Rating (1–5)** | **Compatible With** | **Top Features**                                     |\n",
    "| -------------- | ----------------------- | --------------- | --------------- | ---------------- | ---------------- | ------------------- | ---------------------------------------------------- |\n",
    "| PRD001         | Peloton Bike+           | Equipment       | 2,495.00        | In Stock         | 4.9              | Peloton App         | Rotating screen, auto-resistance, HD touchscreen     |\n",
    "| PRD002         | Peloton Tread           | Equipment       | 3,495.00        | In Stock         | 4.8              | Peloton App         | Shock-absorbing belt, incline control, large display |\n",
    "| PRD003         | Bike Mat                | Accessories     | 59.00           | In Stock         | 4.5              | Peloton Bike, Bike+ | Non-slip surface, sweat resistant                    |\n",
    "| PRD004         | Heart Rate Monitor      | Accessories     | 90.00           | In Stock         | 4.6              | All Peloton Devices | Bluetooth, chest strap comfort                       |\n",
    "| PRD005         | Dumbbell Set (5–30 lbs) | Equipment       | 150.00          | Limited Stock    | 4.7              | Strength Workouts   | Neoprene grip, color-coded                           |\n",
    "| PRD006         | Resistance Bands Set    | Accessories     | 35.00           | In Stock         | 4.4              | Strength & Yoga     | 5 resistance levels, latex-free                      |\n",
    "| PRD007         | Peloton Guide           | Equipment       | 295.00          | In Stock         | 4.6              | TV + Peloton App    | Motion tracking, rep counting                        |\n",
    "| PRD008         | Cycling Shoes           | Apparel         | 125.00          | In Stock         | 4.3              | Peloton Bike, Bike+ | Delta cleats, breathable design                      |\n",
    "| PRD009         | Yoga Accessories Bundle | Accessories     | 99.00           | Out of Stock     | 4.5              | All Fitness Users   | Mat, blocks, strap included                          |\n",
    "| PRD010         | Men's Workout Shorts    | Apparel         | 49.00           | In Stock         | 4.2              | All Users           | Quick-dry, zip pocket                                |\n",
    "| PRD011         | Women's Training Tank   | Apparel         | 39.00           | In Stock         | 4.4              | All Users           | Breathable mesh, racerback                           |\n",
    "| PRD012         | Water Bottle (32oz)     | Accessories     | 25.00           | In Stock         | 4.6              | All Equipment       | BPA-free, insulated                                  |\n",
    "| PRD013         | Smart Weighing Scale    | Equipment       | 129.00          | In Stock         | 4.7              | Peloton App         | Body fat %, sync with app                            |\n",
    "| PRD014         | Foam Roller             | Accessories     | 45.00           | In Stock         | 4.3              | Recovery Users      | Deep tissue massage, portable                        |\n",
    "| PRD015         | Peloton App Membership  | Digital Service | 12.99/month     | N/A              | 4.9              | All Devices         | Unlimited classes, live + on-demand                  |\n"
   ]
  },
  {
   "cell_type": "markdown",
   "metadata": {},
   "source": [
    "### Business Marketing test data\n",
    "\n",
    "| **Campaign ID** | **Campaign Name**          | **Channel**    | **Target Segment**    | **Start Date** | **End Date** | **Open Rate (%)** | **Click-Through Rate (%)** | **Conversions** | **Revenue (USD)** | **Status** |\n",
    "| --------------- | -------------------------- | -------------- | --------------------- | -------------- | ------------ | ----------------- | -------------------------- | --------------- | ----------------- | ---------- |\n",
    "| CMP001          | Spring Fitness Sale        | Email          | Existing Subscribers  | 2025-03-15     | 2025-03-31   | 48.2              | 12.4                       | 350             | 17,500            | Completed  |\n",
    "| CMP002          | New Year Resolution Ads    | Social Media   | New Users (18–34)     | 2025-01-01     | 2025-01-10   | N/A               | 5.6                        | 220             | 11,000            | Completed  |\n",
    "| CMP003          | Referral Program Launch    | Email + In-App | All Members           | 2025-04-01     | 2025-04-15   | 61.5              | 14.2                       | 600             | 30,000            | Completed  |\n",
    "| CMP004          | App Download Promo         | SMS            | Leads from Web        | 2025-02-10     | 2025-02-28   | 32.1              | 7.8                        | 120             | 6,000             | Completed  |\n",
    "| CMP005          | Mother's Day Gear Sale     | Social Media   | Female Users (25–44)  | 2025-05-01     | 2025-05-12   | N/A               | 9.3                        | 180             | 8,200             | Active     |\n",
    "| CMP006          | 30-Day Free Trial Push     | In-App         | App Visitors          | 2025-03-01     | 2025-03-31   | 58.0              | 11.9                       | 540             | 0                 | Completed  |\n",
    "| CMP007          | Retargeting Abandoned Cart | Email          | Cart Abandoners       | 2025-04-05     | 2025-04-20   | 45.6              | 13.6                       | 160             | 7,900             | Completed  |\n",
    "| CMP008          | Tread Awareness Campaign   | YouTube        | General Public        | 2025-02-01     | 2025-02-20   | N/A               | 4.2                        | 90              | 13,500            | Completed  |\n",
    "| CMP009          | Loyalty Perks Announcement | Email          | Long-term Subscribers | 2025-04-10     | 2025-04-30   | 67.2              | 18.0                       | 450             | 21,000            | Active     |\n",
    "| CMP010          | Flash Sale Alert           | SMS            | All Users             | 2025-03-20     | 2025-03-21   | 40.0              | 15.0                       | 310             | 9,300             | Completed  |\n",
    "| CMP011          | Father's Day Challenge     | In-App + Email | Male Users (30–55)    | 2025-06-01     | 2025-06-16   | 50.5              | 10.1                       | 270             | 10,800            | Planned    |\n",
    "| CMP012          | Anniversary Sale           | Email + Social | All Members           | 2025-04-15     | 2025-04-22   | 62.0              | 16.5                       | 480             | 22,400            | Completed  |\n",
    "| CMP013          | Back-to-School Fitness     | Social Media   | Parents (25–45)       | 2025-08-15     | 2025-08-31   | N/A               | 6.8                        | 135             | 6,750             | Planned    |\n",
    "| CMP014          | Holiday Bundle Deals       | Email + Web    | Past Buyers           | 2024-12-01     | 2024-12-20   | 55.7              | 13.0                       | 390             | 19,200            | Completed  |\n",
    "| CMP015          | New Feature Announcement   | In-App         | Active Users          | 2025-03-25     | 2025-04-05   | 70.3              | 20.5                       | 610             | 0                 | Completed  |\n"
   ]
  },
  {
   "cell_type": "markdown",
   "metadata": {},
   "source": [
    "### Membership and fraud detection\n",
    "\n",
    "| **Member ID** | **Name**      | **Signup Date** | **Membership Type** | **Last Login** | **Login Location**   | **Failed Login Attempts** | **Support Requests**      | **Fraud Flagged** | **Fraud Type (if any)** | **Resolution Status** |\n",
    "| ------------- | ------------- | --------------- | ------------------- | -------------- | -------------------- | ------------------------- | ------------------------- | ----------------- | ----------------------- | --------------------- |\n",
    "| MBR001        | Alex Johnson  | 2024-05-01      | Annual              | 2025-04-30     | New York, USA        | 0                         | None                      | No                | N/A                     | N/A                   |\n",
    "| MBR002        | Priya Shah    | 2024-08-22      | Monthly             | 2025-05-02     | Mumbai, India        | 2                         | Password reset            | No                | N/A                     | Resolved              |\n",
    "| MBR003        | Marcus Reid   | 2025-01-10      | Annual              | 2025-05-01     | Los Angeles, USA     | 5                         | Unauthorized access alert | Yes               | Credential Stuffing     | Under Investigation   |\n",
    "| MBR004        | Chen Li       | 2023-12-05      | Trial               | 2025-01-10     | Beijing, China       | 1                         | Billing issue             | No                | N/A                     | Resolved              |\n",
    "| MBR005        | Sarah Kim     | 2025-03-15      | Monthly             | 2025-04-25     | Chicago, USA         | 0                         | Membership upgrade        | No                | N/A                     | Completed             |\n",
    "| MBR006        | Omar Hassan   | 2024-10-12      | Annual              | 2025-05-03     | Riyadh, Saudi Arabia | 7                         | Account lockout           | Yes               | Brute Force Login       | Locked                |\n",
    "| MBR007        | Emily Nguyen  | 2025-02-20      | Trial               | 2025-04-10     | San Jose, USA        | 0                         | None                      | No                | N/A                     | N/A                   |\n",
    "| MBR008        | Diego Torres  | 2024-07-09      | Monthly             | 2025-05-01     | Mexico City, Mexico  | 3                         | Duplicate login detected  | Yes               | Session Hijacking       | Mitigated             |\n",
    "| MBR009        | Rachel Owens  | 2023-09-01      | Annual              | 2025-04-20     | Toronto, Canada      | 0                         | Email change request      | No                | N/A                     | Completed             |\n",
    "| MBR010        | Hassan Ali    | 2025-04-01      | Trial               | 2025-04-30     | Unknown              | 10                        | Login failure             | Yes               | Suspicious IP Activity  | Under Review          |\n",
    "| MBR011        | Linda Foster  | 2024-11-15      | Monthly             | 2025-04-28     | Boston, USA          | 1                         | Inactive account recovery | No                | N/A                     | Completed             |\n",
    "| MBR012        | Jun Park      | 2023-06-11      | Annual              | 2025-05-03     | Seoul, South Korea   | 0                         | MFA setup issue           | No                | N/A                     | Resolved              |\n",
    "| MBR013        | Elena Petrova | 2024-02-03      | Monthly             | 2025-04-18     | Moscow, Russia       | 8                         | Multiple login failures   | Yes               | VPN Misuse              | Warned                |\n",
    "| MBR014        | Jack Taylor   | 2025-01-25      | Trial               | 2025-02-10     | Miami, USA           | 0                         | Cancel trial              | No                | N/A                     | Completed             |\n",
    "| MBR015        | Amina Yusuf   | 2024-09-09      | Annual              | 2025-05-03     | Nairobi, Kenya       | 0                         | Device sync failure       | No                | N/A                     | Resolved              |\n"
   ]
  },
  {
   "cell_type": "markdown",
   "metadata": {},
   "source": [
    "### DS training data\n",
    "\n",
    "| **Record ID** | **Date**   | **User Segment**  | **Daily Active Users** | **Avg Session Time (min)** | **Churn Risk Score (0–1)** | **Avg Order Value (USD)** | **Predicted LTV (USD)** | **Workout Completion Rate (%)** | **Flag for Modeling** |\n",
    "| ------------- | ---------- | ----------------- | ---------------------- | -------------------------- | -------------------------- | ------------------------- | ----------------------- | ------------------------------- | --------------------- |\n",
    "| DS001         | 2025-04-01 | New Users         | 3,200                  | 18.4                       | 0.45                       | 85.20                     | 540.00                  | 72.5                            | Yes                   |\n",
    "| DS002         | 2025-04-01 | Returning Users   | 5,100                  | 27.1                       | 0.18                       | 112.75                    | 960.50                  | 88.9                            | Yes                   |\n",
    "| DS003         | 2025-04-01 | Premium Members   | 2,800                  | 42.7                       | 0.05                       | 155.00                    | 1,400.00                | 95.6                            | Yes                   |\n",
    "| DS004         | 2025-04-01 | Trial Users       | 1,150                  | 10.2                       | 0.72                       | 45.30                     | 200.00                  | 41.0                            | Yes                   |\n",
    "| DS005         | 2025-04-01 | Inactive >30 Days | 300                    | 3.1                        | 0.95                       | 22.00                     | 75.00                   | 12.5                            | Yes                   |\n",
    "| DS006         | 2025-04-02 | Returning Users   | 4,980                  | 25.8                       | 0.22                       | 108.40                    | 925.00                  | 86.3                            | Yes                   |\n",
    "| DS007         | 2025-04-02 | Trial Users       | 1,200                  | 11.0                       | 0.68                       | 47.20                     | 210.00                  | 43.2                            | Yes                   |\n",
    "| DS008         | 2025-04-02 | Premium Members   | 2,850                  | 44.0                       | 0.04                       | 160.80                    | 1,460.00                | 97.1                            | Yes                   |\n",
    "| DS009         | 2025-04-02 | Inactive >30 Days | 310                    | 3.3                        | 0.94                       | 20.50                     | 60.00                   | 10.4                            | Yes                   |\n",
    "| DS010         | 2025-04-02 | New Users         | 3,350                  | 19.2                       | 0.39                       | 88.10                     | 560.00                  | 75.0                            | Yes                   |\n",
    "| DS011         | 2025-04-03 | Returning Users   | 5,200                  | 26.7                       | 0.20                       | 110.60                    | 945.00                  | 89.1                            | Yes                   |\n",
    "| DS012         | 2025-04-03 | Trial Users       | 1,170                  | 10.5                       | 0.70                       | 49.30                     | 225.00                  | 44.7                            | Yes                   |\n",
    "| DS013         | 2025-04-03 | Inactive >30 Days | 290                    | 2.9                        | 0.97                       | 18.90                     | 50.00                   | 9.8                             | Yes                   |\n",
    "| DS014         | 2025-04-03 | Premium Members   | 2,820                  | 43.9                       | 0.06                       | 152.70                    | 1,420.00                | 96.4                            | Yes                   |\n",
    "| DS015         | 2025-04-03 | New Users         | 3,400                  | 18.9                       | 0.42                       | 90.50                     | 580.00                  | 73.8                            | Yes                   |\n"
   ]
  },
  {
   "cell_type": "markdown",
   "metadata": {},
   "source": []
  }
 ],
 "metadata": {
  "kernelspec": {
   "display_name": "msds442",
   "language": "python",
   "name": "python3"
  },
  "language_info": {
   "codemirror_mode": {
    "name": "ipython",
    "version": 3
   },
   "file_extension": ".py",
   "mimetype": "text/x-python",
   "name": "python",
   "nbconvert_exporter": "python",
   "pygments_lexer": "ipython3",
   "version": "3.11.9"
  }
 },
 "nbformat": 4,
 "nbformat_minor": 2
}
