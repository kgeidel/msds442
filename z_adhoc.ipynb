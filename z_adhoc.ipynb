{
 "cells": [
  {
   "cell_type": "code",
   "execution_count": null,
   "metadata": {},
   "outputs": [],
   "source": [
    "############################################\n",
    "# MSDS 442: AI Agent Design and Development\n",
    "# Spring '25\n",
    "# Dr. Bader\n",
    "# \n",
    "# Kevin Geidel\n",
    "############################################\n",
    "\n",
    "# Load environment variables\n",
    "from dotenv import load_dotenv\n",
    "load_dotenv()\n",
    "\n",
    "# Python native imports\n",
    "import os\n",
    "import datetime as dt\n",
    "\n",
    "# Third party library import\n",
    "from langchain_openai import ChatOpenAI\n",
    "from langchain_core.prompts import ChatPromptTemplate\n",
    "\n",
    "# Assign experiment-wide variables\n",
    "model_name = 'gpt-4o-mini'"
   ]
  },
  {
   "cell_type": "raw",
   "metadata": {
    "vscode": {
     "languageId": "raw"
    }
   },
   "source": [
    "{'agent': \n",
    "    {'messages': \n",
    "        [\n",
    "            AIMessage(\n",
    "                content='Hi Kevin! How can I assist you today?', \n",
    "                additional_kwargs={'refusal': None}, \n",
    "                response_metadata={'token_usage':      \n",
    "                    {'completion_tokens': 12, 'prompt_tokens': 94, 'total_tokens': 106, 'completion_tokens_details': {'accepted_prediction_tokens': 0, 'audio_tokens': 0, 'reasoning_tokens': 0, 'rejected_prediction_tokens': 0}, 'prompt_tokens_details': {'audio_tokens': 0, 'cached_tokens': 0}}, 'model_name': 'gpt-4o-mini-2024-07-18', 'system_fingerprint': 'fp_dbaca60df0', 'id': 'chatcmpl-BNlNVCuUAYJH2kPwEB2FTFPHQSe71', 'finish_reason': 'stop', 'logprobs': None}, id='run-12eeb747-599c-4735-bce9-e36a4af768a9-0', usage_metadata={'input_tokens': 94, 'output_tokens': 12, 'total_tokens': 106, 'input_token_details': {'audio': 0, 'cache_read': 0}, 'output_token_details': {'audio': 0, 'reasoning': 0}})\n",
    "        ]\n",
    "    }\n",
    "}\n",
    "----\n",
    "{'agent': \n",
    "    {'messages': \n",
    "        [\n",
    "            AIMessage(\n",
    "                content='', \n",
    "                additional_kwargs={\n",
    "                    'tool_calls': [\n",
    "                        {'id': 'call_bjTnodTCPUP5gORtd3INQ69d', 'function': {'arguments': '{\"query\":\"Wappingers Falls NY weather\"}', 'name': 'tavily_search_results_json'}, 'type': 'function'}\n",
    "                        ], \n",
    "                        'refusal': None}, \n",
    "                        response_metadata={'token_usage': \n",
    "                            {'completion_tokens': 24, 'prompt_tokens': 120, 'total_tokens': 144, 'completion_tokens_details': {'accepted_prediction_tokens': 0, 'audio_tokens': 0, 'reasoning_tokens': 0, 'rejected_prediction_tokens': 0}, 'prompt_tokens_details': {'audio_tokens': 0, 'cached_tokens': 0}}, 'model_name': 'gpt-4o-mini-2024-07-18', 'system_fingerprint': 'fp_dbaca60df0', 'id': 'chatcmpl-BNlNWzgu0PItfVqnT8m8j8a0rn0XF', 'finish_reason': 'tool_calls', 'logprobs': None}, id='run-dbca1bd5-e286-4379-b8b2-a37b3045ef5f-0', tool_calls=[{'name': 'tavily_search_results_json', 'args': {'query': 'Wappingers Falls NY weather'}, 'id': 'call_bjTnodTCPUP5gORtd3INQ69d', 'type': 'tool_call'}], usage_metadata={'input_tokens': 120, 'output_tokens': 24, 'total_tokens': 144, 'input_token_details': {'audio': 0, 'cache_read': 0}, 'output_token_details': {'audio': 0, 'reasoning': 0}})]}}\n",
    "----\n",
    "{'tools': \n",
    "    {'messages': [\n",
    "        ToolMessage(\n",
    "            content='[{\"title\": \"Weather in Wappingers Falls in April 2025 (New York)\", \"url\": \"https://world-weather.info/forecast/usa/wappingers_falls/april-2025/\", \"content\": \"Weather in Wappingers Falls in April 2025\\\\n\\\\nWappingers Falls Weather Forecast for April 2025 is based on long term prognosis and previous years\\' statistical data.\\\\n\\\\nApril\\\\n\\\\n+50°\\\\n\\\\n+32°\\\\n\\\\n+43°\\\\n\\\\n+64°\\\\n\\\\n+48°\\\\n\\\\n+45°\\\\n\\\\n+43°\\\\n\\\\n+39°\\\\n\\\\n+28°\\\\n\\\\n+30°\\\\n\\\\n+36°\\\\n\\\\n+39°\\\\n\\\\n+37°\\\\n\\\\n+37°\\\\n\\\\n+52°\\\\n\\\\n+43°\\\\n\\\\n+39°\\\\n\\\\n+37°\\\\n\\\\n+55°\\\\n\\\\n+61°\\\\n\\\\n+43°\\\\n\\\\n+50°\\\\n\\\\n+48°\\\\n\\\\n+50°\\\\n\\\\n+54°\\\\n\\\\n+55°\\\\n\\\\n+57°\\\\n\\\\n+46°\\\\n\\\\n+48°\\\\n\\\\n+48°\\\\n\\\\nExtended weather forecast in Wappingers Falls\\\\n\\\\nWeather in large and nearby cities\\\\n\\\\nWeather in Washington, D.C.+79°\\\\n\\\\nAlbany+73°\\\\n\\\\nMonsey+66°\\\\n\\\\nNanuet+66° [...] New Windsor+72°\\\\n\\\\nNewburgh+72°\\\\n\\\\nOssining+61°\\\\n\\\\nPoughkeepsie+72°\\\\n\\\\nTarrytown+64°\\\\n\\\\nWhite Plains+66°\\\\n\\\\nMiddletown+72°\\\\n\\\\nKingston+70°\\\\n\\\\nCarmel+68°\\\\n\\\\nDanbury+68°\\\\n\\\\nEast Norwalk+64°\\\\n\\\\nFairfield+64°\\\\n\\\\nLanesborough+68°\\\\n\\\\nPeru+68°\", \"score\": 0.94944966}, {\"title\": \"Weather in Wappingers Falls, NY\", \"url\": \"https://www.weatherapi.com/\", \"content\": \"{\\'location\\': {\\'name\\': \\'Wappingers Falls\\', \\'region\\': \\'New York\\', \\'country\\': \\'USA United States of America\\', \\'lat\\': 41.5958, \\'lon\\': -73.8875, \\'tz_id\\': \\'America/New_York\\', \\'localtime_epoch\\': 1745003086, \\'localtime\\': \\'2025-04-18 15:04\\'}, \\'current\\': {\\'last_updated_epoch\\': 1745002800, \\'last_updated\\': \\'2025-04-18 15:00\\', \\'temp_c\\': 20.6, \\'temp_f\\': 69.1, \\'is_day\\': 1, \\'condition\\': {\\'text\\': \\'Sunny\\', \\'icon\\': \\'//cdn.weatherapi.com/weather/64x64/day/113.png\\', \\'code\\': 1000}, \\'wind_mph\\': 13.6, \\'wind_kph\\': 22.0, \\'wind_degree\\': 206, \\'wind_dir\\': \\'SSW\\', \\'pressure_mb\\': 1020.0, \\'pressure_in\\': 30.11, \\'precip_mm\\': 0.0, \\'precip_in\\': 0.0, \\'humidity\\': 21, \\'cloud\\': 0, \\'feelslike_c\\': 20.6, \\'feelslike_f\\': 69.1, \\'windchill_c\\': 19.2, \\'windchill_f\\': 66.6, \\'heatindex_c\\': 19.3, \\'heatindex_f\\': 66.7, \\'dewpoint_c\\': 7.5, \\'dewpoint_f\\': 45.5, \\'vis_km\\': 16.0, \\'vis_miles\\': 9.0, \\'uv\\': 0.6, \\'gust_mph\\': 15.7, \\'gust_kph\\': 25.3}}\", \"score\": 0.9085414}]', name='tavily_search_results_json', id='21287bb8-407c-4fa4-a3e5-a2d058305721', tool_call_id='call_bjTnodTCPUP5gORtd3INQ69d', artifact={'query': 'Wappingers Falls NY weather', 'follow_up_questions': None, 'answer': None, 'images': [], 'results': [{'url': 'https://world-weather.info/forecast/usa/wappingers_falls/april-2025/', 'title': 'Weather in Wappingers Falls in April 2025 (New York)', 'content': \"Weather in Wappingers Falls in April 2025\\n\\nWappingers Falls Weather Forecast for April 2025 is based on long term prognosis and previous years' statistical data.\\n\\nApril\\n\\n+50°\\n\\n+32°\\n\\n+43°\\n\\n+64°\\n\\n+48°\\n\\n+45°\\n\\n+43°\\n\\n+39°\\n\\n+28°\\n\\n+30°\\n\\n+36°\\n\\n+39°\\n\\n+37°\\n\\n+37°\\n\\n+52°\\n\\n+43°\\n\\n+39°\\n\\n+37°\\n\\n+55°\\n\\n+61°\\n\\n+43°\\n\\n+50°\\n\\n+48°\\n\\n+50°\\n\\n+54°\\n\\n+55°\\n\\n+57°\\n\\n+46°\\n\\n+48°\\n\\n+48°\\n\\nExtended weather forecast in Wappingers Falls\\n\\nWeather in large and nearby cities\\n\\nWeather in Washington, D.C.+79°\\n\\nAlbany+73°\\n\\nMonsey+66°\\n\\nNanuet+66° [...] New Windsor+72°\\n\\nNewburgh+72°\\n\\nOssining+61°\\n\\nPoughkeepsie+72°\\n\\nTarrytown+64°\\n\\nWhite Plains+66°\\n\\nMiddletown+72°\\n\\nKingston+70°\\n\\nCarmel+68°\\n\\nDanbury+68°\\n\\nEast Norwalk+64°\\n\\nFairfield+64°\\n\\nLanesborough+68°\\n\\nPeru+68°\", 'score': 0.94944966, 'raw_content': None}, {'title': 'Weather in Wappingers Falls, NY', 'url': 'https://www.weatherapi.com/', 'content': \"{'location': {'name': 'Wappingers Falls', 'region': 'New York', 'country': 'USA United States of America', 'lat': 41.5958, 'lon': -73.8875, 'tz_id': 'America/New_York', 'localtime_epoch': 1745003086, 'localtime': '2025-04-18 15:04'}, 'current': {'last_updated_epoch': 1745002800, 'last_updated': '2025-04-18 15:00', 'temp_c': 20.6, 'temp_f': 69.1, 'is_day': 1, 'condition': {'text': 'Sunny', 'icon': '//cdn.weatherapi.com/weather/64x64/day/113.png', 'code': 1000}, 'wind_mph': 13.6, 'wind_kph': 22.0, 'wind_degree': 206, 'wind_dir': 'SSW', 'pressure_mb': 1020.0, 'pressure_in': 30.11, 'precip_mm': 0.0, 'precip_in': 0.0, 'humidity': 21, 'cloud': 0, 'feelslike_c': 20.6, 'feelslike_f': 69.1, 'windchill_c': 19.2, 'windchill_f': 66.6, 'heatindex_c': 19.3, 'heatindex_f': 66.7, 'dewpoint_c': 7.5, 'dewpoint_f': 45.5, 'vis_km': 16.0, 'vis_miles': 9.0, 'uv': 0.6, 'gust_mph': 15.7, 'gust_kph': 25.3}}\", 'score': 0.9085414, 'raw_content': None}], 'response_time': 1.91})]}}\n",
    "----\n",
    "{'agent': \n",
    "    {'messages': \n",
    "        [\n",
    "            AIMessage(\n",
    "                content=\"The current weather in Wappingers Falls, NY is as follows:\\n\\n- **Temperature:** 69.1°F (20.6°C)\\n- **Condition:** Sunny\\n- **Wind:** 13.6 mph (22 kph) from the south-southwest\\n- **Humidity:** 21%\\n- **Pressure:** 30.11 in (1020 mb)\\n- **Visibility:** 9 miles\\n\\nIt's a beautiful, sunny day! If you need more information or updates, let me know!\", \n",
    "                additional_kwargs={\n",
    "                    'refusal': None}, response_metadata={'token_usage': {'completion_tokens': 106, 'prompt_tokens': 1038, 'total_tokens': 1144, 'completion_tokens_details': {'accepted_prediction_tokens': 0, 'audio_tokens': 0, 'reasoning_tokens': 0, 'rejected_prediction_tokens': 0}, 'prompt_tokens_details': {'audio_tokens': 0, 'cached_tokens': 0}}, 'model_name': 'gpt-4o-mini-2024-07-18', 'system_fingerprint': 'fp_dbaca60df0', 'id': 'chatcmpl-BNlNZ66LcYJUItpGmtfDPQAP4OfI1', 'finish_reason': 'stop', 'logprobs': None}, id='run-8f07b695-9690-40ca-a546-f2dde450582c-0', usage_metadata={'input_tokens': 1038, 'output_tokens': 106, 'total_tokens': 1144, 'input_token_details': {'audio': 0, 'cache_read': 0}, 'output_token_details': {'audio': 0, 'reasoning': 0}}\n",
    "            )\n",
    "        ]\n",
    "    }\n",
    "}\n",
    "----"
   ]
  }
 ],
 "metadata": {
  "kernelspec": {
   "display_name": "msds442",
   "language": "python",
   "name": "python3"
  },
  "language_info": {
   "codemirror_mode": {
    "name": "ipython",
    "version": 3
   },
   "file_extension": ".py",
   "mimetype": "text/x-python",
   "name": "python",
   "nbconvert_exporter": "python",
   "pygments_lexer": "ipython3",
   "version": "3.11.9"
  }
 },
 "nbformat": 4,
 "nbformat_minor": 2
}
